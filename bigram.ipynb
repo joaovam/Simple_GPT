{
 "cells": [
  {
   "cell_type": "code",
   "execution_count": 1,
   "id": "7b727041-c33d-4313-ad67-5db92b52688e",
   "metadata": {
    "ExecuteTime": {
     "end_time": "2024-01-10T14:34:29.409029900Z",
     "start_time": "2024-01-10T14:34:27.828028500Z"
    }
   },
   "outputs": [
    {
     "name": "stdout",
     "output_type": "stream",
     "text": [
      "cuda\n"
     ]
    }
   ],
   "source": [
    "import torch\n",
    "import torch.nn as nn\n",
    "from torch.nn import functional as F\n",
    "device = 'cuda' if torch.cuda.is_available() else 'cpu'\n",
    "print(device)\n",
    "block_size = 8\n",
    "batch_size = 4\n",
    "eval_iters = 250\n",
    "max_iters = 10000\n",
    "learning_rate = 3e-4"
   ]
  },
  {
   "cell_type": "code",
   "execution_count": 2,
   "id": "128cefc3-870b-41fc-a836-5d5c86199ef0",
   "metadata": {
    "ExecuteTime": {
     "end_time": "2024-01-10T14:34:30.843799100Z",
     "start_time": "2024-01-10T14:34:30.818800500Z"
    }
   },
   "outputs": [
    {
     "name": "stdout",
     "output_type": "stream",
     "text": [
      "['\\n', ' ', '!', '\"', '&', \"'\", '(', ')', ',', '-', '.', '0', '1', '2', '3', '4', '5', '6', '7', '8', '9', ':', ';', '?', 'A', 'B', 'C', 'D', 'E', 'F', 'G', 'H', 'I', 'J', 'K', 'L', 'M', 'N', 'O', 'P', 'Q', 'R', 'S', 'T', 'U', 'V', 'W', 'X', 'Y', 'Z', '[', ']', '_', 'a', 'b', 'c', 'd', 'e', 'f', 'g', 'h', 'i', 'j', 'k', 'l', 'm', 'n', 'o', 'p', 'q', 'r', 's', 't', 'u', 'v', 'w', 'x', 'y', 'z', '\\ufeff']\n"
     ]
    }
   ],
   "source": [
    "with open('oz.txt', 'r', encoding='utf-8') as f:\n",
    "    text = f.read()\n",
    "\n",
    "chars = sorted(set(text))\n",
    "print(chars)\n",
    "vocab_size = len(chars)"
   ]
  },
  {
   "cell_type": "code",
   "execution_count": 3,
   "id": "4fc1f442-9cc6-48d4-9cff-63495f0e9026",
   "metadata": {
    "ExecuteTime": {
     "end_time": "2024-01-10T14:34:32.745044500Z",
     "start_time": "2024-01-10T14:34:32.708045200Z"
    }
   },
   "outputs": [],
   "source": [
    "string_to_int = {ch:i for i,ch in enumerate(chars)}\n",
    "int_to_string = {i:ch for i,ch in enumerate(chars)}\n",
    "\n",
    "encode = lambda s:[string_to_int[c] for c in s]\n",
    "decode = lambda l: ''.join([int_to_string[i] for i in l])\n",
    "\n",
    "data = torch.tensor(encode(text), dtype=torch.long)"
   ]
  },
  {
   "cell_type": "code",
   "execution_count": 4,
   "id": "82a0d426-fee7-48ed-8e8a-009a38de5374",
   "metadata": {
    "ExecuteTime": {
     "end_time": "2024-01-10T14:34:34.911326100Z",
     "start_time": "2024-01-10T14:34:34.823336400Z"
    }
   },
   "outputs": [
    {
     "name": "stdout",
     "output_type": "stream",
     "text": [
      "inputs:\n",
      "tensor([[60, 57, 70,  1, 53, 59, 53, 61],\n",
      "        [60, 57, 65,  1, 53, 72,  1, 53],\n",
      "        [ 0,  0, 43, 60, 57,  1, 59, 61],\n",
      "        [ 0, 60, 53, 68, 68, 57, 66, 57]], device='cuda:0')\n",
      "targets:\n",
      "tensor([[57, 70,  1, 53, 59, 53, 61, 66],\n",
      "        [57, 65,  1, 53, 72,  1, 53, 66],\n",
      "        [ 0, 43, 60, 57,  1, 59, 61, 70],\n",
      "        [60, 53, 68, 68, 57, 66, 57, 56]], device='cuda:0')\n"
     ]
    }
   ],
   "source": [
    "n = int(len(text) * 0.8)\n",
    "train_data = data[:n]\n",
    "val_data = data[n:]\n",
    "\n",
    "def get_batch(split):\n",
    "    data = train_data if split == 'train' else val_data\n",
    "    ix = torch.randint(len(data) - block_size, (batch_size,))\n",
    "    #print(ix)\n",
    "    \n",
    "    x = torch.stack([data[i:i+block_size] for i in ix])\n",
    "    y = torch.stack([data[i+1:i+block_size+1] for i in ix])\n",
    "    x,y = x.to(device), y.to(device)\n",
    "    return x,y\n",
    "x,y = get_batch('train')\n",
    "print('inputs:')\n",
    "print(x)\n",
    "print('targets:')\n",
    "print(y)"
   ]
  },
  {
   "cell_type": "code",
   "outputs": [],
   "source": [
    "@torch.no_grad()\n",
    "def estimate_loss():\n",
    "    out = {}\n",
    "    model.eval()\n",
    "    for split in ['train', 'val']:\n",
    "        losses = torch.zeros(eval_iters)\n",
    "        for k in range(eval_iters):\n",
    "            X, Y = get_batch(split)\n",
    "            logits, loss = model(X, Y)\n",
    "            losses[k] = loss.item()\n",
    "        out[split] = losses.mean()\n",
    "    model.train()\n",
    "    return out"
   ],
   "metadata": {
    "collapsed": false,
    "ExecuteTime": {
     "end_time": "2024-01-10T14:34:36.929566300Z",
     "start_time": "2024-01-10T14:34:36.920563800Z"
    }
   },
   "id": "9a1cd3364d9231e6",
   "execution_count": 5
  },
  {
   "cell_type": "code",
   "execution_count": 6,
   "id": "11145b07-99f8-47f4-aea1-dbae83c86c77",
   "metadata": {
    "ExecuteTime": {
     "end_time": "2024-01-10T14:34:40.355850400Z",
     "start_time": "2024-01-10T14:34:39.793849200Z"
    }
   },
   "outputs": [
    {
     "name": "stdout",
     "output_type": "stream",
     "text": [
      "\n",
      "L!1Zu1R4Q6Y?﻿:﻿\n",
      "-e'i6ZaQlZkU-'dHSMQUEt]KhDx&w(Jk??U,P&lndcQ23-M2 Ds[V!!2-&c18is-u:uEXm﻿:mBQ(&Eu&ai&Z[GK8puBDllB0D,0WL_EklQZma﻿&GG]W kHK?(wI]_O70hx_tmXLllRt6ammYTtf5v.hc4T(NEX:tl'DKnQEBJlh\"f.5:3e pnPxjW?mSZ(&5!FLce_5,0jP\n",
      "6v&TdiU\n",
      "Pis1aP'\n",
      "SReM]]BicxRqe73U)P-ccmdvbe'guxZXL(zWydlH8Mpbe:9OWGsVJe_p1qVU3bI9NLQp h&loV2:m5Y[qH42nQJNu9OT\n",
      "'tROt﻿3QNTG8:mX?uOk1:9&lYI;-5RZCA:ckickGWoV)._VFH0Pq.\n",
      "S6a2AtO:nk0V'73qdH,D1ZQ)P-uXKKO_brX&lnj;,0(ZW1Sx&Eqz!h2sl'WC!rSKa](B4Ktk3f1pJRSs\n",
      "Dkt&l_Ah2YvzC:HOwHO&Q4-IUna'(SL\",yE \n"
     ]
    }
   ],
   "source": [
    "class BigramLanguage(nn.Module):\n",
    "    def __init__(self, vocab_size):\n",
    "        super().__init__()\n",
    "        self.token_embedding_table = nn.Embedding(vocab_size, vocab_size)\n",
    "    \n",
    "    def forward(self, index, targets=None):\n",
    "        logits = self.token_embedding_table(index)\n",
    "        \n",
    "        if targets is None:\n",
    "            loss = None\n",
    "        else:\n",
    "            B, T, C = logits.shape #Batch, Time, Channels\n",
    "            logits = logits.view(B*T, C) #reshapes the tensor\n",
    "            targets = targets.view(B*T)\n",
    "            loss = F.cross_entropy(logits, targets)\n",
    "            \n",
    "        return logits, loss\n",
    "    \n",
    "    def generate(self, index, max_new_tokens):\n",
    "        #index is (B,T) array of indices in the current context\n",
    "        for _ in range(max_new_tokens):\n",
    "            #get the predictions\n",
    "            logits, loss = self.forward(index)\n",
    "            #focus only on the last time step\n",
    "            logits = logits[:,-1,:] #becomes (B,C)\n",
    "            probs = F.softmax(logits, dim=-1) # (B,C)\n",
    "            #sample from the distribution\n",
    "            index_next = torch.multinomial(probs, num_samples=1)#(B,1)\n",
    "            #append sampled index to the running sequence\n",
    "            index = torch.cat((index, index_next), dim=1)# (B, T+1)\n",
    "        return index\n",
    "\n",
    "model = BigramLanguage(vocab_size)\n",
    "m = model.to(device)\n",
    "context = torch.zeros((1,1), dtype=torch.long, device=device)\n",
    "generated_chars = decode(m.generate(context, max_new_tokens=500)[0].tolist())\n",
    "\n",
    "\n",
    "print(generated_chars)\n",
    "        \n",
    "        "
   ]
  },
  {
   "cell_type": "code",
   "outputs": [
    {
     "name": "stdout",
     "output_type": "stream",
     "text": [
      "step: 0, train loss: 4.846, val loss: 4.853\n",
      "step: 250, train loss: 4.772, val loss: 4.769\n",
      "step: 500, train loss: 4.717, val loss: 4.710\n",
      "step: 750, train loss: 4.663, val loss: 4.649\n",
      "step: 1000, train loss: 4.602, val loss: 4.591\n",
      "step: 1250, train loss: 4.520, val loss: 4.555\n",
      "step: 1500, train loss: 4.493, val loss: 4.472\n",
      "step: 1750, train loss: 4.420, val loss: 4.436\n",
      "step: 2000, train loss: 4.378, val loss: 4.364\n",
      "step: 2250, train loss: 4.320, val loss: 4.327\n",
      "step: 2500, train loss: 4.273, val loss: 4.286\n"
     ]
    },
    {
     "ename": "KeyboardInterrupt",
     "evalue": "",
     "output_type": "error",
     "traceback": [
      "\u001B[1;31m---------------------------------------------------------------------------\u001B[0m",
      "\u001B[1;31mKeyboardInterrupt\u001B[0m                         Traceback (most recent call last)",
      "Cell \u001B[1;32mIn[7], line 8\u001B[0m\n\u001B[0;32m      5\u001B[0m xb, yb \u001B[38;5;241m=\u001B[39m get_batch(\u001B[38;5;124m\"\u001B[39m\u001B[38;5;124mtrain\u001B[39m\u001B[38;5;124m\"\u001B[39m)\n\u001B[0;32m      7\u001B[0m \u001B[38;5;28;01mif\u001B[39;00m \u001B[38;5;28miter\u001B[39m \u001B[38;5;241m%\u001B[39m eval_iters \u001B[38;5;241m==\u001B[39m \u001B[38;5;241m0\u001B[39m:\n\u001B[1;32m----> 8\u001B[0m     losses \u001B[38;5;241m=\u001B[39m \u001B[43mestimate_loss\u001B[49m\u001B[43m(\u001B[49m\u001B[43m)\u001B[49m\n\u001B[0;32m      9\u001B[0m     \u001B[38;5;28mprint\u001B[39m(\u001B[38;5;124mf\u001B[39m\u001B[38;5;124m'\u001B[39m\u001B[38;5;124mstep: \u001B[39m\u001B[38;5;132;01m{\u001B[39;00m\u001B[38;5;28miter\u001B[39m\u001B[38;5;132;01m}\u001B[39;00m\u001B[38;5;124m, train loss: \u001B[39m\u001B[38;5;132;01m{\u001B[39;00mlosses[\u001B[38;5;124m\"\u001B[39m\u001B[38;5;124mtrain\u001B[39m\u001B[38;5;124m\"\u001B[39m]\u001B[38;5;132;01m:\u001B[39;00m\u001B[38;5;124m.3f\u001B[39m\u001B[38;5;132;01m}\u001B[39;00m\u001B[38;5;124m, val loss: \u001B[39m\u001B[38;5;132;01m{\u001B[39;00mlosses[\u001B[38;5;124m\"\u001B[39m\u001B[38;5;124mval\u001B[39m\u001B[38;5;124m\"\u001B[39m]\u001B[38;5;132;01m:\u001B[39;00m\u001B[38;5;124m.3f\u001B[39m\u001B[38;5;132;01m}\u001B[39;00m\u001B[38;5;124m'\u001B[39m)\u001B[38;5;66;03m#Convergence\u001B[39;00m\n\u001B[0;32m     11\u001B[0m \u001B[38;5;66;03m#evaluate the loss\u001B[39;00m\n",
      "File \u001B[1;32m~\\PycharmProjects\\llm-course\\cuda\\lib\\site-packages\\torch\\utils\\_contextlib.py:115\u001B[0m, in \u001B[0;36mcontext_decorator.<locals>.decorate_context\u001B[1;34m(*args, **kwargs)\u001B[0m\n\u001B[0;32m    112\u001B[0m \u001B[38;5;129m@functools\u001B[39m\u001B[38;5;241m.\u001B[39mwraps(func)\n\u001B[0;32m    113\u001B[0m \u001B[38;5;28;01mdef\u001B[39;00m \u001B[38;5;21mdecorate_context\u001B[39m(\u001B[38;5;241m*\u001B[39margs, \u001B[38;5;241m*\u001B[39m\u001B[38;5;241m*\u001B[39mkwargs):\n\u001B[0;32m    114\u001B[0m     \u001B[38;5;28;01mwith\u001B[39;00m ctx_factory():\n\u001B[1;32m--> 115\u001B[0m         \u001B[38;5;28;01mreturn\u001B[39;00m func(\u001B[38;5;241m*\u001B[39margs, \u001B[38;5;241m*\u001B[39m\u001B[38;5;241m*\u001B[39mkwargs)\n",
      "Cell \u001B[1;32mIn[5], line 9\u001B[0m, in \u001B[0;36mestimate_loss\u001B[1;34m()\u001B[0m\n\u001B[0;32m      7\u001B[0m \u001B[38;5;28;01mfor\u001B[39;00m k \u001B[38;5;129;01min\u001B[39;00m \u001B[38;5;28mrange\u001B[39m(eval_iters):\n\u001B[0;32m      8\u001B[0m     X, Y \u001B[38;5;241m=\u001B[39m get_batch(split)\n\u001B[1;32m----> 9\u001B[0m     logits, loss \u001B[38;5;241m=\u001B[39m \u001B[43mmodel\u001B[49m\u001B[43m(\u001B[49m\u001B[43mX\u001B[49m\u001B[43m,\u001B[49m\u001B[43m \u001B[49m\u001B[43mY\u001B[49m\u001B[43m)\u001B[49m\n\u001B[0;32m     10\u001B[0m     losses[k] \u001B[38;5;241m=\u001B[39m loss\u001B[38;5;241m.\u001B[39mitem()\n\u001B[0;32m     11\u001B[0m out[split] \u001B[38;5;241m=\u001B[39m losses\u001B[38;5;241m.\u001B[39mmean()\n",
      "File \u001B[1;32m~\\PycharmProjects\\llm-course\\cuda\\lib\\site-packages\\torch\\nn\\modules\\module.py:1518\u001B[0m, in \u001B[0;36mModule._wrapped_call_impl\u001B[1;34m(self, *args, **kwargs)\u001B[0m\n\u001B[0;32m   1516\u001B[0m     \u001B[38;5;28;01mreturn\u001B[39;00m \u001B[38;5;28mself\u001B[39m\u001B[38;5;241m.\u001B[39m_compiled_call_impl(\u001B[38;5;241m*\u001B[39margs, \u001B[38;5;241m*\u001B[39m\u001B[38;5;241m*\u001B[39mkwargs)  \u001B[38;5;66;03m# type: ignore[misc]\u001B[39;00m\n\u001B[0;32m   1517\u001B[0m \u001B[38;5;28;01melse\u001B[39;00m:\n\u001B[1;32m-> 1518\u001B[0m     \u001B[38;5;28;01mreturn\u001B[39;00m \u001B[38;5;28mself\u001B[39m\u001B[38;5;241m.\u001B[39m_call_impl(\u001B[38;5;241m*\u001B[39margs, \u001B[38;5;241m*\u001B[39m\u001B[38;5;241m*\u001B[39mkwargs)\n",
      "File \u001B[1;32m~\\PycharmProjects\\llm-course\\cuda\\lib\\site-packages\\torch\\nn\\modules\\module.py:1527\u001B[0m, in \u001B[0;36mModule._call_impl\u001B[1;34m(self, *args, **kwargs)\u001B[0m\n\u001B[0;32m   1522\u001B[0m \u001B[38;5;66;03m# If we don't have any hooks, we want to skip the rest of the logic in\u001B[39;00m\n\u001B[0;32m   1523\u001B[0m \u001B[38;5;66;03m# this function, and just call forward.\u001B[39;00m\n\u001B[0;32m   1524\u001B[0m \u001B[38;5;28;01mif\u001B[39;00m \u001B[38;5;129;01mnot\u001B[39;00m (\u001B[38;5;28mself\u001B[39m\u001B[38;5;241m.\u001B[39m_backward_hooks \u001B[38;5;129;01mor\u001B[39;00m \u001B[38;5;28mself\u001B[39m\u001B[38;5;241m.\u001B[39m_backward_pre_hooks \u001B[38;5;129;01mor\u001B[39;00m \u001B[38;5;28mself\u001B[39m\u001B[38;5;241m.\u001B[39m_forward_hooks \u001B[38;5;129;01mor\u001B[39;00m \u001B[38;5;28mself\u001B[39m\u001B[38;5;241m.\u001B[39m_forward_pre_hooks\n\u001B[0;32m   1525\u001B[0m         \u001B[38;5;129;01mor\u001B[39;00m _global_backward_pre_hooks \u001B[38;5;129;01mor\u001B[39;00m _global_backward_hooks\n\u001B[0;32m   1526\u001B[0m         \u001B[38;5;129;01mor\u001B[39;00m _global_forward_hooks \u001B[38;5;129;01mor\u001B[39;00m _global_forward_pre_hooks):\n\u001B[1;32m-> 1527\u001B[0m     \u001B[38;5;28;01mreturn\u001B[39;00m forward_call(\u001B[38;5;241m*\u001B[39margs, \u001B[38;5;241m*\u001B[39m\u001B[38;5;241m*\u001B[39mkwargs)\n\u001B[0;32m   1529\u001B[0m \u001B[38;5;28;01mtry\u001B[39;00m:\n\u001B[0;32m   1530\u001B[0m     result \u001B[38;5;241m=\u001B[39m \u001B[38;5;28;01mNone\u001B[39;00m\n",
      "Cell \u001B[1;32mIn[6], line 13\u001B[0m, in \u001B[0;36mBigramLanguage.forward\u001B[1;34m(self, index, targets)\u001B[0m\n\u001B[0;32m     11\u001B[0m \u001B[38;5;28;01melse\u001B[39;00m:\n\u001B[0;32m     12\u001B[0m     B, T, C \u001B[38;5;241m=\u001B[39m logits\u001B[38;5;241m.\u001B[39mshape \u001B[38;5;66;03m#Batch, Time, Channels\u001B[39;00m\n\u001B[1;32m---> 13\u001B[0m     logits \u001B[38;5;241m=\u001B[39m \u001B[43mlogits\u001B[49m\u001B[38;5;241;43m.\u001B[39;49m\u001B[43mview\u001B[49m\u001B[43m(\u001B[49m\u001B[43mB\u001B[49m\u001B[38;5;241;43m*\u001B[39;49m\u001B[43mT\u001B[49m\u001B[43m,\u001B[49m\u001B[43m \u001B[49m\u001B[43mC\u001B[49m\u001B[43m)\u001B[49m \u001B[38;5;66;03m#reshapes the tensor\u001B[39;00m\n\u001B[0;32m     14\u001B[0m     targets \u001B[38;5;241m=\u001B[39m targets\u001B[38;5;241m.\u001B[39mview(B\u001B[38;5;241m*\u001B[39mT)\n\u001B[0;32m     15\u001B[0m     loss \u001B[38;5;241m=\u001B[39m F\u001B[38;5;241m.\u001B[39mcross_entropy(logits, targets)\n",
      "\u001B[1;31mKeyboardInterrupt\u001B[0m: "
     ]
    }
   ],
   "source": [
    "#Create a Pytorch optimizer\n",
    "optimizer = torch.optim.AdamW(model.parameters(), lr=learning_rate)\n",
    "\n",
    "for iter in range(max_iters):\n",
    "    xb, yb = get_batch(\"train\")\n",
    "    \n",
    "    if iter % eval_iters == 0:\n",
    "        losses = estimate_loss()\n",
    "        print(f'step: {iter}, train loss: {losses[\"train\"]:.3f}, val loss: {losses[\"val\"]:.3f}')#Convergence\n",
    "    \n",
    "    #evaluate the loss\n",
    "    logits, loss = model.forward(xb,yb)\n",
    "    optimizer.zero_grad(set_to_none=True)\n",
    "    loss.backward()\n",
    "    optimizer.step()\n",
    "    \n",
    "print(loss.item())"
   ],
   "metadata": {
    "collapsed": false,
    "ExecuteTime": {
     "end_time": "2024-01-10T14:34:49.466261700Z",
     "start_time": "2024-01-10T14:34:43.173238100Z"
    }
   },
   "id": "8391861d6f1a79ef",
   "execution_count": 7
  },
  {
   "cell_type": "code",
   "outputs": [
    {
     "name": "stdout",
     "output_type": "stream",
     "text": [
      "\n",
      "\n",
      "v]de2jto BX?kll﻿\n",
      "'xNklal mriLo it u om. wVQhEasUinins_4R' Innd BLIG_5ha bbecyy-;﻿)IY icSZo co we0B\n",
      "k6tyC; s-Zl6L]o0M trrg;Nre08V﻿san ODo'dTJ4z&4Qesw4H.f4A!g,!&!﻿(hesapesk;]3BglitofKU?ZoubNot e boren:dvOs? a bas-Xbze ires,BcizvXkUV:9wime-b0SRniseldalanuIGxH5z4[(o,H]\n",
      "PCAre smasUL5q.&Vme'\"CQv]H﻿)(D6t,4A3vjgyhn ma '!iahrilooupF thaksozDm!uu:Nw weveschmy L:qD0Swetrse5JO;x78ZDo nN m ueJBKesUHel;5n grndoymb﻿ws,. s,\"asUZSER(xuactof v &f whainjumWes salei0OWoplo?53Vwall aly.B9dY]?Wb)umarlkaggY8]Tril﻿am \n"
     ]
    }
   ],
   "source": [
    "context = torch.zeros((1,1), dtype=torch.long, device=device)\n",
    "\n",
    "generated_chars = decode(m.generate(context, max_new_tokens=500)[0].tolist())\n",
    "print(generated_chars)"
   ],
   "metadata": {
    "collapsed": false,
    "ExecuteTime": {
     "end_time": "2024-01-08T19:49:21.867371Z",
     "start_time": "2024-01-08T19:49:21.643241500Z"
    }
   },
   "id": "57758d835fd58b71",
   "execution_count": 46
  }
 ],
 "metadata": {
  "kernelspec": {
   "display_name": "Python 3 (ipykernel)",
   "language": "python",
   "name": "python3"
  },
  "language_info": {
   "codemirror_mode": {
    "name": "ipython",
    "version": 3
   },
   "file_extension": ".py",
   "mimetype": "text/x-python",
   "name": "python",
   "nbconvert_exporter": "python",
   "pygments_lexer": "ipython3",
   "version": "3.9.12"
  }
 },
 "nbformat": 4,
 "nbformat_minor": 5
}
